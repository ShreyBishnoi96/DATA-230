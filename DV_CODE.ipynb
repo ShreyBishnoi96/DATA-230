{
 "cells": [
  {
   "cell_type": "code",
   "execution_count": 1,
   "id": "56f7ed27",
   "metadata": {},
   "outputs": [],
   "source": [
    "import pandas as pd"
   ]
  },
  {
   "cell_type": "code",
   "execution_count": 6,
   "id": "b868b354",
   "metadata": {},
   "outputs": [],
   "source": [
    "df1 = pd.read_csv('aqi_daily_1980_to_2021.csv')\n",
    "df2 = pd.read_csv('aqi_yearly_1980_to_2021.csv')"
   ]
  },
  {
   "cell_type": "code",
   "execution_count": 8,
   "id": "130f9813",
   "metadata": {},
   "outputs": [
    {
     "data": {
      "text/plain": [
       "Index(['State Name', 'Date', 'AQI', 'Category', 'Defining Parameter',\n",
       "       'Latitude', 'Longitude', 'County Name'],\n",
       "      dtype='object')"
      ]
     },
     "execution_count": 8,
     "metadata": {},
     "output_type": "execute_result"
    }
   ],
   "source": [
    "df1.columns"
   ]
  },
  {
   "cell_type": "code",
   "execution_count": 9,
   "id": "e555dd60",
   "metadata": {},
   "outputs": [
    {
     "data": {
      "text/plain": [
       "Index(['State', 'County', 'Year', 'Days with AQI', 'Good Days',\n",
       "       'Moderate Days', 'Unhealthy for Sensitive Groups Days',\n",
       "       'Unhealthy Days', 'Very Unhealthy Days', 'Hazardous Days', 'Max AQI',\n",
       "       '90th Percentile AQI', 'Median AQI', 'Days CO', 'Days NO2',\n",
       "       'Days Ozone', 'Days SO2', 'Days PM2.5', 'Days PM10', 'Latitude',\n",
       "       'Longitude'],\n",
       "      dtype='object')"
      ]
     },
     "execution_count": 9,
     "metadata": {},
     "output_type": "execute_result"
    }
   ],
   "source": [
    "df2.columns"
   ]
  },
  {
   "cell_type": "code",
   "execution_count": 12,
   "id": "34019c71",
   "metadata": {},
   "outputs": [
    {
     "data": {
      "text/plain": [
       "(10158527, 8)"
      ]
     },
     "execution_count": 12,
     "metadata": {},
     "output_type": "execute_result"
    }
   ],
   "source": [
    "df1.shape"
   ]
  },
  {
   "cell_type": "code",
   "execution_count": 13,
   "id": "9f5ddf55",
   "metadata": {},
   "outputs": [
    {
     "data": {
      "text/plain": [
       "(34186, 21)"
      ]
     },
     "execution_count": 13,
     "metadata": {},
     "output_type": "execute_result"
    }
   ],
   "source": [
    "df2.shape"
   ]
  },
  {
   "cell_type": "code",
   "execution_count": 14,
   "id": "a4d26df0",
   "metadata": {},
   "outputs": [],
   "source": [
    "df1.drop_duplicates(inplace=True)\n",
    "df2.drop_duplicates(inplace=True)"
   ]
  },
  {
   "cell_type": "code",
   "execution_count": 16,
   "id": "a5d35718",
   "metadata": {},
   "outputs": [
    {
     "data": {
      "text/plain": [
       "(10158527, 8)"
      ]
     },
     "execution_count": 16,
     "metadata": {},
     "output_type": "execute_result"
    }
   ],
   "source": [
    "df1.shape"
   ]
  },
  {
   "cell_type": "code",
   "execution_count": 17,
   "id": "2ff6b54e",
   "metadata": {},
   "outputs": [],
   "source": [
    "df_final= pd.concat([df1,df2], axis=0,ignore_index=True)"
   ]
  },
  {
   "cell_type": "code",
   "execution_count": 18,
   "id": "cda6a0f1",
   "metadata": {},
   "outputs": [
    {
     "data": {
      "text/plain": [
       "(10192713, 27)"
      ]
     },
     "execution_count": 18,
     "metadata": {},
     "output_type": "execute_result"
    }
   ],
   "source": [
    "df_final.shape"
   ]
  },
  {
   "cell_type": "code",
   "execution_count": 20,
   "id": "a2005f82",
   "metadata": {},
   "outputs": [
    {
     "data": {
      "text/html": [
       "<div>\n",
       "<style scoped>\n",
       "    .dataframe tbody tr th:only-of-type {\n",
       "        vertical-align: middle;\n",
       "    }\n",
       "\n",
       "    .dataframe tbody tr th {\n",
       "        vertical-align: top;\n",
       "    }\n",
       "\n",
       "    .dataframe thead th {\n",
       "        text-align: right;\n",
       "    }\n",
       "</style>\n",
       "<table border=\"1\" class=\"dataframe\">\n",
       "  <thead>\n",
       "    <tr style=\"text-align: right;\">\n",
       "      <th></th>\n",
       "      <th>State Name</th>\n",
       "      <th>Date</th>\n",
       "      <th>AQI</th>\n",
       "      <th>Category</th>\n",
       "      <th>Defining Parameter</th>\n",
       "      <th>Latitude</th>\n",
       "      <th>Longitude</th>\n",
       "      <th>County Name</th>\n",
       "      <th>State</th>\n",
       "      <th>County</th>\n",
       "      <th>...</th>\n",
       "      <th>Hazardous Days</th>\n",
       "      <th>Max AQI</th>\n",
       "      <th>90th Percentile AQI</th>\n",
       "      <th>Median AQI</th>\n",
       "      <th>Days CO</th>\n",
       "      <th>Days NO2</th>\n",
       "      <th>Days Ozone</th>\n",
       "      <th>Days SO2</th>\n",
       "      <th>Days PM2.5</th>\n",
       "      <th>Days PM10</th>\n",
       "    </tr>\n",
       "  </thead>\n",
       "  <tbody>\n",
       "    <tr>\n",
       "      <th>10192708</th>\n",
       "      <td>NaN</td>\n",
       "      <td>NaN</td>\n",
       "      <td>NaN</td>\n",
       "      <td>NaN</td>\n",
       "      <td>NaN</td>\n",
       "      <td>42.928800</td>\n",
       "      <td>-109.788000</td>\n",
       "      <td>NaN</td>\n",
       "      <td>Wyoming</td>\n",
       "      <td>Sublette</td>\n",
       "      <td>...</td>\n",
       "      <td>0.0</td>\n",
       "      <td>151.0</td>\n",
       "      <td>61.0</td>\n",
       "      <td>44.0</td>\n",
       "      <td>0.0</td>\n",
       "      <td>0.0</td>\n",
       "      <td>355.0</td>\n",
       "      <td>0.0</td>\n",
       "      <td>11.0</td>\n",
       "      <td>0.0</td>\n",
       "    </tr>\n",
       "    <tr>\n",
       "      <th>10192709</th>\n",
       "      <td>NaN</td>\n",
       "      <td>NaN</td>\n",
       "      <td>NaN</td>\n",
       "      <td>NaN</td>\n",
       "      <td>NaN</td>\n",
       "      <td>41.763060</td>\n",
       "      <td>-108.734440</td>\n",
       "      <td>NaN</td>\n",
       "      <td>Wyoming</td>\n",
       "      <td>Sweetwater</td>\n",
       "      <td>...</td>\n",
       "      <td>1.0</td>\n",
       "      <td>1250.0</td>\n",
       "      <td>76.0</td>\n",
       "      <td>46.0</td>\n",
       "      <td>0.0</td>\n",
       "      <td>5.0</td>\n",
       "      <td>253.0</td>\n",
       "      <td>0.0</td>\n",
       "      <td>7.0</td>\n",
       "      <td>101.0</td>\n",
       "    </tr>\n",
       "    <tr>\n",
       "      <th>10192710</th>\n",
       "      <td>NaN</td>\n",
       "      <td>NaN</td>\n",
       "      <td>NaN</td>\n",
       "      <td>NaN</td>\n",
       "      <td>NaN</td>\n",
       "      <td>44.565217</td>\n",
       "      <td>-110.400996</td>\n",
       "      <td>NaN</td>\n",
       "      <td>Wyoming</td>\n",
       "      <td>Teton</td>\n",
       "      <td>...</td>\n",
       "      <td>0.0</td>\n",
       "      <td>161.0</td>\n",
       "      <td>54.0</td>\n",
       "      <td>42.0</td>\n",
       "      <td>0.0</td>\n",
       "      <td>0.0</td>\n",
       "      <td>329.0</td>\n",
       "      <td>0.0</td>\n",
       "      <td>37.0</td>\n",
       "      <td>0.0</td>\n",
       "    </tr>\n",
       "    <tr>\n",
       "      <th>10192711</th>\n",
       "      <td>NaN</td>\n",
       "      <td>NaN</td>\n",
       "      <td>NaN</td>\n",
       "      <td>NaN</td>\n",
       "      <td>NaN</td>\n",
       "      <td>41.408699</td>\n",
       "      <td>-110.702153</td>\n",
       "      <td>NaN</td>\n",
       "      <td>Wyoming</td>\n",
       "      <td>Uinta</td>\n",
       "      <td>...</td>\n",
       "      <td>0.0</td>\n",
       "      <td>122.0</td>\n",
       "      <td>51.0</td>\n",
       "      <td>40.0</td>\n",
       "      <td>0.0</td>\n",
       "      <td>2.0</td>\n",
       "      <td>225.0</td>\n",
       "      <td>0.0</td>\n",
       "      <td>0.0</td>\n",
       "      <td>139.0</td>\n",
       "    </tr>\n",
       "    <tr>\n",
       "      <th>10192712</th>\n",
       "      <td>NaN</td>\n",
       "      <td>NaN</td>\n",
       "      <td>NaN</td>\n",
       "      <td>NaN</td>\n",
       "      <td>NaN</td>\n",
       "      <td>43.845390</td>\n",
       "      <td>-104.205120</td>\n",
       "      <td>NaN</td>\n",
       "      <td>Wyoming</td>\n",
       "      <td>Weston</td>\n",
       "      <td>...</td>\n",
       "      <td>0.0</td>\n",
       "      <td>119.0</td>\n",
       "      <td>49.0</td>\n",
       "      <td>40.0</td>\n",
       "      <td>0.0</td>\n",
       "      <td>0.0</td>\n",
       "      <td>353.0</td>\n",
       "      <td>13.0</td>\n",
       "      <td>0.0</td>\n",
       "      <td>0.0</td>\n",
       "    </tr>\n",
       "  </tbody>\n",
       "</table>\n",
       "<p>5 rows × 27 columns</p>\n",
       "</div>"
      ],
      "text/plain": [
       "         State Name Date  AQI Category Defining Parameter   Latitude  \\\n",
       "10192708        NaN  NaN  NaN      NaN                NaN  42.928800   \n",
       "10192709        NaN  NaN  NaN      NaN                NaN  41.763060   \n",
       "10192710        NaN  NaN  NaN      NaN                NaN  44.565217   \n",
       "10192711        NaN  NaN  NaN      NaN                NaN  41.408699   \n",
       "10192712        NaN  NaN  NaN      NaN                NaN  43.845390   \n",
       "\n",
       "           Longitude County Name    State      County  ...  Hazardous Days  \\\n",
       "10192708 -109.788000         NaN  Wyoming    Sublette  ...             0.0   \n",
       "10192709 -108.734440         NaN  Wyoming  Sweetwater  ...             1.0   \n",
       "10192710 -110.400996         NaN  Wyoming       Teton  ...             0.0   \n",
       "10192711 -110.702153         NaN  Wyoming       Uinta  ...             0.0   \n",
       "10192712 -104.205120         NaN  Wyoming      Weston  ...             0.0   \n",
       "\n",
       "          Max AQI  90th Percentile AQI  Median AQI  Days CO  Days NO2  \\\n",
       "10192708    151.0                 61.0        44.0      0.0       0.0   \n",
       "10192709   1250.0                 76.0        46.0      0.0       5.0   \n",
       "10192710    161.0                 54.0        42.0      0.0       0.0   \n",
       "10192711    122.0                 51.0        40.0      0.0       2.0   \n",
       "10192712    119.0                 49.0        40.0      0.0       0.0   \n",
       "\n",
       "          Days Ozone  Days SO2  Days PM2.5  Days PM10  \n",
       "10192708       355.0       0.0        11.0        0.0  \n",
       "10192709       253.0       0.0         7.0      101.0  \n",
       "10192710       329.0       0.0        37.0        0.0  \n",
       "10192711       225.0       0.0         0.0      139.0  \n",
       "10192712       353.0      13.0         0.0        0.0  \n",
       "\n",
       "[5 rows x 27 columns]"
      ]
     },
     "execution_count": 20,
     "metadata": {},
     "output_type": "execute_result"
    }
   ],
   "source": [
    "df_final.tail()"
   ]
  },
  {
   "cell_type": "code",
   "execution_count": null,
   "id": "be51a433",
   "metadata": {},
   "outputs": [],
   "source": []
  }
 ],
 "metadata": {
  "kernelspec": {
   "display_name": "Python 3 (ipykernel)",
   "language": "python",
   "name": "python3"
  },
  "language_info": {
   "codemirror_mode": {
    "name": "ipython",
    "version": 3
   },
   "file_extension": ".py",
   "mimetype": "text/x-python",
   "name": "python",
   "nbconvert_exporter": "python",
   "pygments_lexer": "ipython3",
   "version": "3.9.7"
  }
 },
 "nbformat": 4,
 "nbformat_minor": 5
}
